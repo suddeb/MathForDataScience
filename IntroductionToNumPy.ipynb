{
 "cells": [
  {
   "cell_type": "markdown",
   "id": "e8d0142f",
   "metadata": {},
   "source": [
    "**1 - Basics of NumPy**\n",
    "\n",
    "NumPy is the main package for scientific computing in Python. It performs a wide variety of advanced mathematical operations with high efficiency. In this practice lab you will learn several key NumPy functions that will help you in future assignments, such as creating arrays, slicing, indexing, reshaping and stacking."
   ]
  }
 ],
 "metadata": {
  "language_info": {
   "name": "python"
  }
 },
 "nbformat": 4,
 "nbformat_minor": 5
}
